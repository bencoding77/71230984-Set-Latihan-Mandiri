{
  "nbformat": 4,
  "nbformat_minor": 0,
  "metadata": {
    "colab": {
      "provenance": []
    },
    "kernelspec": {
      "name": "python3",
      "display_name": "Python 3"
    },
    "language_info": {
      "name": "python"
    }
  },
  "cells": [
    {
      "cell_type": "markdown",
      "source": [
        "Soal 1"
      ],
      "metadata": {
        "id": "vdxg1MI2RW6m"
      }
    },
    {
      "cell_type": "code",
      "execution_count": 1,
      "metadata": {
        "colab": {
          "base_uri": "https://localhost:8080/"
        },
        "id": "FofQGi2LRU9i",
        "outputId": "a67e8d15-b696-4f6f-9755-00b4625800da"
      },
      "outputs": [
        {
          "output_type": "stream",
          "name": "stdout",
          "text": [
            "Masukkan jumlah kategori: 2\n",
            "Masukkan nama kategori: ALPHA\n",
            "Masukkan 5 nama aplikasi di kategori ALPHA\n",
            "Masukkan nama aplikasi ke-1: A\n",
            "Masukkan nama aplikasi ke-2: B\n",
            "Masukkan nama aplikasi ke-3: C\n",
            "Masukkan nama aplikasi ke-4: D\n",
            "Masukkan nama aplikasi ke-5: E\n",
            "Masukkan nama kategori: BETA\n",
            "Masukkan 5 nama aplikasi di kategori BETA\n",
            "Masukkan nama aplikasi ke-1: G\n",
            "Masukkan nama aplikasi ke-2: A\n",
            "Masukkan nama aplikasi ke-3: H\n",
            "Masukkan nama aplikasi ke-4: B\n",
            "Masukkan nama aplikasi ke-5: J\n",
            "\n",
            "Data Aplikasi\n",
            "{'ALPHA': ['A', 'B', 'C', 'D', 'E'], 'BETA': ['G', 'A', 'H', 'B', 'J']}\n",
            "Aplikasi di Satu Kategori Saja:\n",
            "1. G\n",
            "2. J\n",
            "3. D\n",
            "4. E\n",
            "5. C\n",
            "6. H\n",
            "Aplikasi di Dua Kategori:\n",
            "1. B\n",
            "2. A\n"
          ]
        }
      ],
      "source": [
        "n = int(input(\"Masukkan jumlah kategori: \"))\n",
        "data_aplikasi  = {}\n",
        "for i in range(n):\n",
        "    nama_kategori = input(\"Masukkan nama kategori: \")\n",
        "    print(f\"Masukkan 5 nama aplikasi di kategori {nama_kategori}\")\n",
        "    aplikasi = []\n",
        "    for j in range(5):\n",
        "        nama_aplikasi = input(f\"Masukkan nama aplikasi ke-{j+1}: \")\n",
        "        aplikasi.append(nama_aplikasi)\n",
        "    data_aplikasi[nama_kategori] = aplikasi\n",
        "\n",
        "print('\\nData Aplikasi')\n",
        "print(data_aplikasi)\n",
        "\n",
        "satu_kategori = set()\n",
        "dua_kategori = set()\n",
        "\n",
        "for aplikasi in data_aplikasi.values():\n",
        "    for apk in aplikasi:\n",
        "        kemunculan = sum(apk in aplikasi for aplikasi in data_aplikasi.values())\n",
        "        if kemunculan == 1:\n",
        "            satu_kategori.add(apk)\n",
        "        elif kemunculan == 2:\n",
        "            dua_kategori.add(apk)\n",
        "\n",
        "i = 1\n",
        "print(\"Aplikasi di Satu Kategori Saja:\")\n",
        "for aplikasi in satu_kategori:\n",
        "    print(f\"{i}. {aplikasi}\")\n",
        "    i += 1\n",
        "\n",
        "j = 1\n",
        "print(\"Aplikasi di Dua Kategori:\")\n",
        "if dua_kategori:\n",
        "    for aplikasi in dua_kategori:\n",
        "        print(f\"{j}. {aplikasi}\")\n",
        "        j += 1\n",
        "else:\n",
        "    print(\"Tidak ada aplikasi yang muncul di dua kategori!\")"
      ]
    },
    {
      "cell_type": "markdown",
      "source": [
        "Soal 2"
      ],
      "metadata": {
        "id": "YWvRHT9WTS4X"
      }
    },
    {
      "cell_type": "code",
      "source": [
        "def lst_ke_st(lst):\n",
        "    return set(lst)\n",
        "contoh = [1, 2, 3, 4, 5]\n",
        "print('Sebelum:', contoh)\n",
        "print('Sesudah:', lst_ke_st(contoh))\n",
        "\n",
        "def st_ke_lst(st):\n",
        "    return list(st)\n",
        "contoh = set((1, 2, 3, 4, 5))\n",
        "print('Sebelum:', contoh)\n",
        "print('Sesudah:', st_ke_lst(contoh))\n",
        "\n",
        "def tpl_ke_st(tpl):\n",
        "    return set(tpl)\n",
        "contoh = (1, 2, 3, 4, 5)\n",
        "print('Sebelum:', contoh)\n",
        "print('Sesudah:', tpl_ke_st(contoh))\n",
        "\n",
        "def st_ke_tpl(st):\n",
        "    return tuple(st)\n",
        "contoh = set((1, 2, 3, 4, 5))\n",
        "print('Sebelum:', contoh)\n",
        "print('Sesudah:', st_ke_tpl(contoh))"
      ],
      "metadata": {
        "colab": {
          "base_uri": "https://localhost:8080/"
        },
        "id": "_lsAf9J-TUQn",
        "outputId": "b7496660-2236-49b8-c428-81d2f2c27e79"
      },
      "execution_count": 2,
      "outputs": [
        {
          "output_type": "stream",
          "name": "stdout",
          "text": [
            "Sebelum: [1, 2, 3, 4, 5]\n",
            "Sesudah: {1, 2, 3, 4, 5}\n",
            "Sebelum: {1, 2, 3, 4, 5}\n",
            "Sesudah: [1, 2, 3, 4, 5]\n",
            "Sebelum: (1, 2, 3, 4, 5)\n",
            "Sesudah: {1, 2, 3, 4, 5}\n",
            "Sebelum: {1, 2, 3, 4, 5}\n",
            "Sesudah: (1, 2, 3, 4, 5)\n"
          ]
        }
      ]
    },
    {
      "cell_type": "markdown",
      "source": [
        "Soal 3"
      ],
      "metadata": {
        "id": "B1G2nAL1Tdoh"
      }
    },
    {
      "cell_type": "code",
      "source": [
        "def baca_dua_file(file1, file2):\n",
        "    try:\n",
        "        with open(file1, 'r') as f1, open(file2, 'r') as f2:\n",
        "            konten_satu = f1.read().lower().split()\n",
        "            kata_satu = set(konten_satu)\n",
        "            konten_dua = f2.read().lower().split()\n",
        "            kata_dua = set(konten_dua)\n",
        "            semua_kata = kata_satu | kata_dua\n",
        "            print(\"Isi Data:\")\n",
        "            print(list(semua_kata))\n",
        "\n",
        "            kata_bersama = kata_satu & kata_dua\n",
        "            if kata_bersama:\n",
        "                print(\"Kata kata di Kedua File yang Sama:\")\n",
        "                i = 1\n",
        "                for kata in kata_bersama:\n",
        "                    print(f\"{i}. {kata}\")\n",
        "                    i += 1\n",
        "            else:\n",
        "                print(\"Tidak ada kata sama yang muncul di kedua file!\")\n",
        "    except FileNotFoundError:\n",
        "        print(\"File tidak ditemukan!\")\n",
        "\n",
        "file1 = input(\"Masukkan file pertama: \")\n",
        "file2 = input(\"Masukkan file kedua: \")\n",
        "baca_dua_file(file1, file2)"
      ],
      "metadata": {
        "colab": {
          "base_uri": "https://localhost:8080/"
        },
        "id": "FXqW-mb3Tehd",
        "outputId": "71523ce0-a76a-49d8-c0ab-3fdb50132d2b"
      },
      "execution_count": 3,
      "outputs": [
        {
          "output_type": "stream",
          "name": "stdout",
          "text": [
            "Masukkan file pertama: file1.txt\n",
            "Masukkan file kedua: file2.txt\n",
            "File tidak ditemukan!\n"
          ]
        }
      ]
    }
  ]
}